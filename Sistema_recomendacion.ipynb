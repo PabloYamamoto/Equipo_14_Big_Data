{
  "nbformat": 4,
  "nbformat_minor": 0,
  "metadata": {
    "colab": {
      "provenance": []
    },
    "kernelspec": {
      "name": "python3",
      "display_name": "Python 3"
    },
    "language_info": {
      "name": "python"
    }
  },
  "cells": [
    {
      "cell_type": "code",
      "source": [
        "!pip install scikit-surprise"
      ],
      "metadata": {
        "colab": {
          "base_uri": "https://localhost:8080/"
        },
        "id": "hWLVBRHEop0i",
        "outputId": "3b374cc7-6414-49bf-c074-fb80bb25dbc1"
      },
      "execution_count": 25,
      "outputs": [
        {
          "output_type": "stream",
          "name": "stdout",
          "text": [
            "Requirement already satisfied: scikit-surprise in /usr/local/lib/python3.10/dist-packages (1.1.3)\n",
            "Requirement already satisfied: joblib>=1.0.0 in /usr/local/lib/python3.10/dist-packages (from scikit-surprise) (1.4.2)\n",
            "Requirement already satisfied: numpy>=1.17.3 in /usr/local/lib/python3.10/dist-packages (from scikit-surprise) (1.25.2)\n",
            "Requirement already satisfied: scipy>=1.3.2 in /usr/local/lib/python3.10/dist-packages (from scikit-surprise) (1.11.4)\n"
          ]
        }
      ]
    },
    {
      "cell_type": "code",
      "source": [
        "data = pd.read_csv('amazon.tsv', sep='\\t', nrows=50_000)\n",
        "data.sample(1)"
      ],
      "metadata": {
        "colab": {
          "base_uri": "https://localhost:8080/",
          "height": 135
        },
        "id": "8jeeC0qPnjAS",
        "outputId": "dd725deb-e9d3-48cb-e605-9ddc77f8bd14"
      },
      "execution_count": 35,
      "outputs": [
        {
          "output_type": "execute_result",
          "data": {
            "text/plain": [
              "      marketplace  customer_id       review_id  product_id  product_parent  \\\n",
              "11981          US     32621511  R3SOZW66QSY7XV  0385333854       710547068   \n",
              "\n",
              "               product_title product_category  star_rating  helpful_votes  \\\n",
              "11981  Woody Guthrie: A Life            Books            5             11   \n",
              "\n",
              "       total_votes vine verified_purchase  \\\n",
              "11981           12    N                 N   \n",
              "\n",
              "                           review_headline review_date  \n",
              "11981  The greatest biography ever written  2005-10-07  "
            ],
            "text/html": [
              "\n",
              "  <div id=\"df-4195fc53-6e30-4adf-b39d-e004b6dd721d\" class=\"colab-df-container\">\n",
              "    <div>\n",
              "<style scoped>\n",
              "    .dataframe tbody tr th:only-of-type {\n",
              "        vertical-align: middle;\n",
              "    }\n",
              "\n",
              "    .dataframe tbody tr th {\n",
              "        vertical-align: top;\n",
              "    }\n",
              "\n",
              "    .dataframe thead th {\n",
              "        text-align: right;\n",
              "    }\n",
              "</style>\n",
              "<table border=\"1\" class=\"dataframe\">\n",
              "  <thead>\n",
              "    <tr style=\"text-align: right;\">\n",
              "      <th></th>\n",
              "      <th>marketplace</th>\n",
              "      <th>customer_id</th>\n",
              "      <th>review_id</th>\n",
              "      <th>product_id</th>\n",
              "      <th>product_parent</th>\n",
              "      <th>product_title</th>\n",
              "      <th>product_category</th>\n",
              "      <th>star_rating</th>\n",
              "      <th>helpful_votes</th>\n",
              "      <th>total_votes</th>\n",
              "      <th>vine</th>\n",
              "      <th>verified_purchase</th>\n",
              "      <th>review_headline</th>\n",
              "      <th>review_date</th>\n",
              "    </tr>\n",
              "  </thead>\n",
              "  <tbody>\n",
              "    <tr>\n",
              "      <th>11981</th>\n",
              "      <td>US</td>\n",
              "      <td>32621511</td>\n",
              "      <td>R3SOZW66QSY7XV</td>\n",
              "      <td>0385333854</td>\n",
              "      <td>710547068</td>\n",
              "      <td>Woody Guthrie: A Life</td>\n",
              "      <td>Books</td>\n",
              "      <td>5</td>\n",
              "      <td>11</td>\n",
              "      <td>12</td>\n",
              "      <td>N</td>\n",
              "      <td>N</td>\n",
              "      <td>The greatest biography ever written</td>\n",
              "      <td>2005-10-07</td>\n",
              "    </tr>\n",
              "  </tbody>\n",
              "</table>\n",
              "</div>\n",
              "    <div class=\"colab-df-buttons\">\n",
              "\n",
              "  <div class=\"colab-df-container\">\n",
              "    <button class=\"colab-df-convert\" onclick=\"convertToInteractive('df-4195fc53-6e30-4adf-b39d-e004b6dd721d')\"\n",
              "            title=\"Convert this dataframe to an interactive table.\"\n",
              "            style=\"display:none;\">\n",
              "\n",
              "  <svg xmlns=\"http://www.w3.org/2000/svg\" height=\"24px\" viewBox=\"0 -960 960 960\">\n",
              "    <path d=\"M120-120v-720h720v720H120Zm60-500h600v-160H180v160Zm220 220h160v-160H400v160Zm0 220h160v-160H400v160ZM180-400h160v-160H180v160Zm440 0h160v-160H620v160ZM180-180h160v-160H180v160Zm440 0h160v-160H620v160Z\"/>\n",
              "  </svg>\n",
              "    </button>\n",
              "\n",
              "  <style>\n",
              "    .colab-df-container {\n",
              "      display:flex;\n",
              "      gap: 12px;\n",
              "    }\n",
              "\n",
              "    .colab-df-convert {\n",
              "      background-color: #E8F0FE;\n",
              "      border: none;\n",
              "      border-radius: 50%;\n",
              "      cursor: pointer;\n",
              "      display: none;\n",
              "      fill: #1967D2;\n",
              "      height: 32px;\n",
              "      padding: 0 0 0 0;\n",
              "      width: 32px;\n",
              "    }\n",
              "\n",
              "    .colab-df-convert:hover {\n",
              "      background-color: #E2EBFA;\n",
              "      box-shadow: 0px 1px 2px rgba(60, 64, 67, 0.3), 0px 1px 3px 1px rgba(60, 64, 67, 0.15);\n",
              "      fill: #174EA6;\n",
              "    }\n",
              "\n",
              "    .colab-df-buttons div {\n",
              "      margin-bottom: 4px;\n",
              "    }\n",
              "\n",
              "    [theme=dark] .colab-df-convert {\n",
              "      background-color: #3B4455;\n",
              "      fill: #D2E3FC;\n",
              "    }\n",
              "\n",
              "    [theme=dark] .colab-df-convert:hover {\n",
              "      background-color: #434B5C;\n",
              "      box-shadow: 0px 1px 3px 1px rgba(0, 0, 0, 0.15);\n",
              "      filter: drop-shadow(0px 1px 2px rgba(0, 0, 0, 0.3));\n",
              "      fill: #FFFFFF;\n",
              "    }\n",
              "  </style>\n",
              "\n",
              "    <script>\n",
              "      const buttonEl =\n",
              "        document.querySelector('#df-4195fc53-6e30-4adf-b39d-e004b6dd721d button.colab-df-convert');\n",
              "      buttonEl.style.display =\n",
              "        google.colab.kernel.accessAllowed ? 'block' : 'none';\n",
              "\n",
              "      async function convertToInteractive(key) {\n",
              "        const element = document.querySelector('#df-4195fc53-6e30-4adf-b39d-e004b6dd721d');\n",
              "        const dataTable =\n",
              "          await google.colab.kernel.invokeFunction('convertToInteractive',\n",
              "                                                    [key], {});\n",
              "        if (!dataTable) return;\n",
              "\n",
              "        const docLinkHtml = 'Like what you see? Visit the ' +\n",
              "          '<a target=\"_blank\" href=https://colab.research.google.com/notebooks/data_table.ipynb>data table notebook</a>'\n",
              "          + ' to learn more about interactive tables.';\n",
              "        element.innerHTML = '';\n",
              "        dataTable['output_type'] = 'display_data';\n",
              "        await google.colab.output.renderOutput(dataTable, element);\n",
              "        const docLink = document.createElement('div');\n",
              "        docLink.innerHTML = docLinkHtml;\n",
              "        element.appendChild(docLink);\n",
              "      }\n",
              "    </script>\n",
              "  </div>\n",
              "\n",
              "\n",
              "    </div>\n",
              "  </div>\n"
            ],
            "application/vnd.google.colaboratory.intrinsic+json": {
              "type": "dataframe",
              "repr_error": "0"
            }
          },
          "metadata": {},
          "execution_count": 35
        }
      ]
    },
    {
      "cell_type": "code",
      "source": [
        "from surprise.model_selection import RandomizedSearchCV\n",
        "\n",
        "# Creamos un objeto Reader\n",
        "reader = Reader(rating_scale=(1, 5))\n",
        "\n",
        "# Cargamos el dataset\n",
        "dataset = Dataset.load_from_df(data[['customer_id', 'product_id', 'star_rating']], reader)\n",
        "\n",
        "param_dist = {'n_factors': [30, 40, 50, 100, 150],\n",
        "              'lr_all': [0.002, 0.005, 0.01, 0.1, 0.02],\n",
        "              'reg_all': [0.02, 0.04, 0.06,0.01, 0.9]}\n",
        "random_search = RandomizedSearchCV(SVD, param_dist, measures=['rmse'], cv=3, n_iter=5)\n",
        "random_search.fit(dataset)\n",
        "# Mejores resultados\n",
        "print(\"Mejores resultados:\")\n",
        "print(random_search.best_score['rmse'])\n",
        "print(random_search.best_params['rmse'])\n",
        "\n",
        "# Detalles de cada ejecución\n",
        "print(\"\\nDetalles de cada ejecución:\")\n",
        "results_df = pd.DataFrame.from_dict(random_search.cv_results)\n",
        "print(results_df)"
      ],
      "metadata": {
        "colab": {
          "base_uri": "https://localhost:8080/"
        },
        "id": "QWZRbEblwsLj",
        "outputId": "062ba951-149f-48eb-e766-caf0f56777ea"
      },
      "execution_count": 75,
      "outputs": [
        {
          "output_type": "stream",
          "name": "stdout",
          "text": [
            "Mejores resultados:\n",
            "1.1717085678102002\n",
            "{'n_factors': 100, 'lr_all': 0.02, 'reg_all': 0.02}\n",
            "\n",
            "Detalles de cada ejecución:\n",
            "   split0_test_rmse  split1_test_rmse  split2_test_rmse  mean_test_rmse  \\\n",
            "0          1.177426          1.188593          1.167902        1.177974   \n",
            "1          1.171056          1.183190          1.160879        1.171709   \n",
            "2          1.178740          1.189830          1.168922        1.179164   \n",
            "3          1.173072          1.186563          1.163892        1.174509   \n",
            "4          1.195536          1.206248          1.185370        1.195718   \n",
            "\n",
            "   std_test_rmse  rank_test_rmse  mean_fit_time  std_fit_time  mean_test_time  \\\n",
            "0       0.008456               3       0.748349      0.121960        0.144452   \n",
            "1       0.009120               1       0.866601      0.024259        0.118849   \n",
            "2       0.008541               4       0.862636      0.008654        0.107534   \n",
            "3       0.009311               2       0.861004      0.013323        0.207780   \n",
            "4       0.008524               5       0.892481      0.054151        0.162620   \n",
            "\n",
            "   std_test_time                                             params  \\\n",
            "0       0.023456  {'n_factors': 30, 'lr_all': 0.005, 'reg_all': ...   \n",
            "1       0.002934  {'n_factors': 100, 'lr_all': 0.02, 'reg_all': ...   \n",
            "2       0.007029  {'n_factors': 100, 'lr_all': 0.005, 'reg_all':...   \n",
            "3       0.139976  {'n_factors': 100, 'lr_all': 0.1, 'reg_all': 0...   \n",
            "4       0.003121  {'n_factors': 50, 'lr_all': 0.002, 'reg_all': ...   \n",
            "\n",
            "   param_n_factors  param_lr_all  param_reg_all  \n",
            "0               30         0.005           0.04  \n",
            "1              100         0.020           0.02  \n",
            "2              100         0.005           0.01  \n",
            "3              100         0.100           0.06  \n",
            "4               50         0.002           0.90  \n"
          ]
        }
      ]
    },
    {
      "cell_type": "code",
      "source": [
        "from surprise.model_selection import RandomizedSearchCV\n",
        "from surprise.prediction_algorithms.knns import KNNWithMeans\n",
        "\n",
        "param_dist = {'k': [20, 30, 40],\n",
        "              'sim_options': {'name': ['cosine', 'pearson'],\n",
        "                              'user_based': [True, False]}}\n",
        "\n",
        "random_search = RandomizedSearchCV(KNNWithMeans, param_dist, measures=['rmse'], cv=3, n_iter=5)\n",
        "random_search.fit(dataset)\n",
        "\n",
        "# Mejores resultados\n",
        "print(\"Mejores resultados:\")\n",
        "print(random_search.best_score['rmse'])\n",
        "print(random_search.best_params['rmse'])\n",
        "\n",
        "# Detalles de cada ejecución\n",
        "print(\"\\nDetalles de cada ejecución:\")\n",
        "results_df = pd.DataFrame.from_dict(random_search.cv_results)\n",
        "print(results_df)"
      ],
      "metadata": {
        "colab": {
          "base_uri": "https://localhost:8080/"
        },
        "id": "23FrPnhbzF5p",
        "outputId": "b46c938a-feb3-4e49-cffd-7b389d767567"
      },
      "execution_count": 79,
      "outputs": [
        {
          "output_type": "stream",
          "name": "stdout",
          "text": [
            "Computing the cosine similarity matrix...\n",
            "Done computing similarity matrix.\n",
            "Computing the cosine similarity matrix...\n",
            "Done computing similarity matrix.\n",
            "Computing the cosine similarity matrix...\n",
            "Done computing similarity matrix.\n",
            "Computing the pearson similarity matrix...\n",
            "Done computing similarity matrix.\n",
            "Computing the pearson similarity matrix...\n",
            "Done computing similarity matrix.\n",
            "Computing the pearson similarity matrix...\n",
            "Done computing similarity matrix.\n",
            "Computing the cosine similarity matrix...\n",
            "Done computing similarity matrix.\n",
            "Computing the cosine similarity matrix...\n",
            "Done computing similarity matrix.\n",
            "Computing the cosine similarity matrix...\n",
            "Done computing similarity matrix.\n",
            "Computing the cosine similarity matrix...\n",
            "Done computing similarity matrix.\n",
            "Computing the cosine similarity matrix...\n",
            "Done computing similarity matrix.\n",
            "Computing the cosine similarity matrix...\n",
            "Done computing similarity matrix.\n",
            "Computing the pearson similarity matrix...\n",
            "Done computing similarity matrix.\n",
            "Computing the pearson similarity matrix...\n",
            "Done computing similarity matrix.\n",
            "Computing the pearson similarity matrix...\n",
            "Done computing similarity matrix.\n",
            "Mejores resultados:\n",
            "1.2393829513647219\n",
            "{'k': 30, 'sim_options': {'name': 'cosine', 'user_based': True}}\n",
            "\n",
            "Detalles de cada ejecución:\n",
            "   split0_test_rmse  split1_test_rmse  split2_test_rmse  mean_test_rmse  \\\n",
            "0          1.245198          1.244169          1.252966        1.247444   \n",
            "1          1.232455          1.234510          1.251394        1.239453   \n",
            "2          1.232525          1.234088          1.251536        1.239383   \n",
            "3          1.232526          1.234088          1.251536        1.239383   \n",
            "4          1.232455          1.234510          1.251394        1.239453   \n",
            "\n",
            "   std_test_rmse  rank_test_rmse  mean_fit_time  std_fit_time  mean_test_time  \\\n",
            "0       0.003927               5      18.682048      1.116881        0.196790   \n",
            "1       0.008485               3      16.642342      0.773885        0.114035   \n",
            "2       0.008617               1      16.832605      1.660315        0.235413   \n",
            "3       0.008617               2      15.307170      0.193263        0.113395   \n",
            "4       0.008485               4      16.083040      0.547345        0.139979   \n",
            "\n",
            "   std_test_time                                             params  param_k  \\\n",
            "0       0.045262  {'k': 20, 'sim_options': {'name': 'cosine', 'u...       20   \n",
            "1       0.004756  {'k': 20, 'sim_options': {'name': 'pearson', '...       20   \n",
            "2       0.126964  {'k': 30, 'sim_options': {'name': 'cosine', 'u...       30   \n",
            "3       0.001644  {'k': 20, 'sim_options': {'name': 'cosine', 'u...       20   \n",
            "4       0.040790  {'k': 30, 'sim_options': {'name': 'pearson', '...       30   \n",
            "\n",
            "                         param_sim_options  \n",
            "0  {'name': 'cosine', 'user_based': False}  \n",
            "1  {'name': 'pearson', 'user_based': True}  \n",
            "2   {'name': 'cosine', 'user_based': True}  \n",
            "3   {'name': 'cosine', 'user_based': True}  \n",
            "4  {'name': 'pearson', 'user_based': True}  \n"
          ]
        }
      ]
    },
    {
      "cell_type": "code",
      "source": [
        "import pandas as pd\n",
        "from surprise import Dataset, Reader, SVD\n",
        "from surprise.model_selection import train_test_split\n",
        "from surprise import accuracy\n",
        "\n",
        "# Dividimos en conjunto de entrenamiento y conjunto de prueba\n",
        "trainset, testset = train_test_split(dataset, test_size=0.2, random_state=42)\n",
        "\n",
        "# Creamos el modelo SVD (Singular Value Decomposition)\n",
        "#model = SVD()\n",
        "model = SVD(n_factors=40, lr_all=0.02, reg_all=0.01)\n",
        "\n",
        "# Entrenamos el modelo\n",
        "model.fit(trainset)\n",
        "\n",
        "# Evaluamos el modelo\n",
        "predictions = model.test(testset)\n",
        "\n",
        "# Calculamos RMSE (Root Mean Squared Error)\n",
        "accuracy.rmse(predictions)\n",
        "\n"
      ],
      "metadata": {
        "colab": {
          "base_uri": "https://localhost:8080/"
        },
        "id": "IlY45aLznkZu",
        "outputId": "be256036-8685-4306-893d-b26b47ad6293"
      },
      "execution_count": 76,
      "outputs": [
        {
          "output_type": "stream",
          "name": "stdout",
          "text": [
            "RMSE: 1.1454\n"
          ]
        },
        {
          "output_type": "execute_result",
          "data": {
            "text/plain": [
              "1.1453618094656748"
            ]
          },
          "metadata": {},
          "execution_count": 76
        }
      ]
    },
    {
      "cell_type": "code",
      "source": [
        "# Definimos una función para obtener las recomendaciones para un customer_id\n",
        "def get_recommendations(customer_id, n=10):\n",
        "    # Creamos una lista de todos los productos\n",
        "    all_products = data['product_id'].unique().tolist()\n",
        "    # Removemos los productos que el usuario ya ha visto\n",
        "    products_seen = data[data['customer_id'] == customer_id]['product_id'].tolist()\n",
        "    products_to_predict = [product for product in all_products if product not in products_seen]\n",
        "\n",
        "    # Predecimos ratings para los productos que el usuario no ha visto\n",
        "    predictions = [model.predict(customer_id, product) for product in products_to_predict]\n",
        "\n",
        "    # Ordenamos las predicciones por rating (de mayor a menor)\n",
        "    sorted_predictions = sorted(predictions, key=lambda x: x.est, reverse=True)\n",
        "\n",
        "    # Devolvemos las primeras n predicciones\n",
        "    top_n = sorted_predictions[:n]\n",
        "    recommended_products = [pred.iid for pred in top_n]\n",
        "\n",
        "    return recommended_products\n",
        "\n",
        "# Ahora, para obtener las recomendaciones para un customer_id específico\n",
        "customer_id = 'tu_customer_id'\n",
        "recommendations = get_recommendations(customer_id)\n",
        "\n",
        "print(\"Recomendaciones para el customer_id\", customer_id, \":\")\n",
        "for i, product_id in enumerate(recommendations, 1):\n",
        "    print(f\"{i}. {product_id}\")\n"
      ],
      "metadata": {
        "colab": {
          "base_uri": "https://localhost:8080/"
        },
        "id": "FyHjowDRo1Iv",
        "outputId": "1e2909b6-2ffe-4784-89ab-511144a52229"
      },
      "execution_count": 77,
      "outputs": [
        {
          "output_type": "stream",
          "name": "stdout",
          "text": [
            "Recomendaciones para el customer_id tu_customer_id :\n",
            "1. 0595346677\n",
            "2. 0974786918\n",
            "3. 0345476581\n",
            "4. 0897934474\n",
            "5. 0312343337\n",
            "6. 1419607553\n",
            "7. 1412045320\n",
            "8. 0060283262\n",
            "9. 0316734934\n",
            "10. 0740754939\n"
          ]
        }
      ]
    },
    {
      "cell_type": "code",
      "source": [
        "# Definimos una función para obtener las recomendaciones para un customer_id\n",
        "def get_recommendations(customer_id, n=10):\n",
        "    # Creamos una lista de todos los productos\n",
        "    all_products = data[['product_id', 'product_title']].drop_duplicates()\n",
        "\n",
        "    # Removemos los productos que el usuario ya ha visto\n",
        "    products_seen = data[data['customer_id'] == customer_id]['product_id'].tolist()\n",
        "    all_products = all_products[~all_products['product_id'].isin(products_seen)]\n",
        "\n",
        "    # Predecimos ratings para los productos que el usuario no ha visto\n",
        "    predictions = [model.predict(customer_id, product_id) for product_id in all_products['product_id']]\n",
        "\n",
        "    # Ordenamos las predicciones por rating (de mayor a menor)\n",
        "    sorted_predictions = sorted(predictions, key=lambda x: x.est, reverse=True)\n",
        "\n",
        "    # Devolvemos las primeras n predicciones con sus títulos\n",
        "    top_n = sorted_predictions[:n]\n",
        "    recommended_products = [(pred.iid, all_products[all_products['product_id'] == pred.iid]['product_title'].values[0]) for pred in top_n]\n",
        "\n",
        "    return recommended_products\n",
        "\n",
        "# Ahora, para obtener las recomendaciones para un customer_id específico\n",
        "customer_id = 'tu_customer_id'\n",
        "recommendations = get_recommendations(customer_id)\n",
        "\n",
        "print(\"Recomendaciones para el customer_id\", customer_id, \":\")\n",
        "for i, (product_id, product_title) in enumerate(recommendations, 1):\n",
        "    print(f\"{i}. {product_title} (ID: {product_id})\")\n"
      ],
      "metadata": {
        "colab": {
          "base_uri": "https://localhost:8080/"
        },
        "id": "FSUnTi3bsANi",
        "outputId": "bce8d2ca-ca40-4962-fbf5-26a92367e2c7"
      },
      "execution_count": 78,
      "outputs": [
        {
          "output_type": "stream",
          "name": "stdout",
          "text": [
            "Recomendaciones para el customer_id tu_customer_id :\n",
            "1. Steven (ID: 0595346677)\n",
            "2. Jeanne Carley's Ferret Calendar 2006, Ferret Babies (ID: 0974786918)\n",
            "3. The Underdog: How I Survived the World's Most Outlandish Competitions (ID: 0345476581)\n",
            "4. How to Spot a Dangerous Man Before You Get Involved (ID: 0897934474)\n",
            "5. Tiny Dancer: The Incredible True Story of a Young Burn Victim's Journey from Afghanistan (ID: 0312343337)\n",
            "6. She Did That (ID: 1419607553)\n",
            "7. Self-Change Hypnosis (ID: 1412045320)\n",
            "8. If You Give a Pig a Party (ID: 0060283262)\n",
            "9. The Lincoln Lawyer: A Novel (Mickey Haller) (ID: 0316734934)\n",
            "10. Famous Pairs: A Deliciously Absurd Collection of Portraits (ID: 0740754939)\n"
          ]
        }
      ]
    },
    {
      "cell_type": "code",
      "source": [],
      "metadata": {
        "id": "25emxnDJt2aS"
      },
      "execution_count": null,
      "outputs": []
    }
  ]
}
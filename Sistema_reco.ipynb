{
 "cells": [
  {
   "cell_type": "code",
   "execution_count": 2,
   "id": "74fc524e-37c4-459a-9dd4-838d0dd66b77",
   "metadata": {},
   "outputs": [],
   "source": [
    "import pandas as pd\n",
    "\n",
    "# Cargar el dataset\n",
    "data = pd.read_csv('amazon.tsv', sep='\\t', nrows=50_000)\n"
   ]
  },
  {
   "cell_type": "code",
   "execution_count": 38,
   "id": "4a64ea57-0a57-44d3-a05d-dd3c73d3fc29",
   "metadata": {},
   "outputs": [
    {
     "data": {
      "text/html": [
       "<div>\n",
       "<style scoped>\n",
       "    .dataframe tbody tr th:only-of-type {\n",
       "        vertical-align: middle;\n",
       "    }\n",
       "\n",
       "    .dataframe tbody tr th {\n",
       "        vertical-align: top;\n",
       "    }\n",
       "\n",
       "    .dataframe thead th {\n",
       "        text-align: right;\n",
       "    }\n",
       "</style>\n",
       "<table border=\"1\" class=\"dataframe\">\n",
       "  <thead>\n",
       "    <tr style=\"text-align: right;\">\n",
       "      <th></th>\n",
       "      <th>customer_id</th>\n",
       "      <th>product_id</th>\n",
       "      <th>star_rating</th>\n",
       "    </tr>\n",
       "  </thead>\n",
       "  <tbody>\n",
       "    <tr>\n",
       "      <th>44396</th>\n",
       "      <td>34682965</td>\n",
       "      <td>0471738948</td>\n",
       "      <td>5</td>\n",
       "    </tr>\n",
       "  </tbody>\n",
       "</table>\n",
       "</div>"
      ],
      "text/plain": [
       "       customer_id  product_id  star_rating\n",
       "44396     34682965  0471738948            5"
      ]
     },
     "execution_count": 38,
     "metadata": {},
     "output_type": "execute_result"
    }
   ],
   "source": [
    "# Seleccionar solo las columnas necesarias\n",
    "data = data[['customer_id', 'product_id', 'star_rating']]\n",
    "\n",
    "# Filtrar las valoraciones nulas si las hay\n",
    "data = data.dropna()\n",
    "data.sample(1)"
   ]
  },
  {
   "cell_type": "code",
   "execution_count": 4,
   "id": "ab8ce46f-4025-4cdd-b4e8-51526cca2bc7",
   "metadata": {},
   "outputs": [],
   "source": [
    "# Crear la matriz de usuario-producto\n",
    "user_product_matrix = data.pivot_table(index='customer_id', columns='product_id', values='star_rating').fillna(0)\n"
   ]
  },
  {
   "cell_type": "code",
   "execution_count": 14,
   "id": "bd6828eb-5e95-41fb-964e-d4a45e7057b9",
   "metadata": {},
   "outputs": [],
   "source": [
    "from sklearn.metrics.pairwise import cosine_similarity\n",
    "\n",
    "# Calcular la similitud de coseno entre los usuarios\n",
    "user_similarity = cosine_similarity(user_product_matrix)\n",
    "user_similarity_df = pd.DataFrame(user_similarity, index=user_product_matrix.index, columns=user_product_matrix.index)\n"
   ]
  },
  {
   "cell_type": "code",
   "execution_count": 39,
   "id": "5d6b40b9-5822-4af0-a763-0e168fcb2ea6",
   "metadata": {},
   "outputs": [
    {
     "name": "stdout",
     "output_type": "stream",
     "text": [
      "       product_id                                      product_title\n",
      "1832   158322713X                            A Man Without a Country\n",
      "3296   1932226397  Call to Action: Secret Formulas to Improve Onl...\n",
      "6002   1885167628  Bag the Elephant!: How to Win and Keep Big Cus...\n",
      "23812  1560257679  Fog Facts : Searching for Truth in the Land of...\n",
      "29251  0471730440       Persuasion: The Art of Getting What You Want\n"
     ]
    }
   ],
   "source": [
    "def recommend_products(user_id, num_recommendations=5):\n",
    "    # Obtener la fila de similitudes para el usuario dado\n",
    "    similar_users = user_similarity_df[user_id].sort_values(ascending=False)[1:]\n",
    "    \n",
    "    # Obtener los productos que han sido calificados por usuarios similares\n",
    "    similar_users_ratings = user_product_matrix.loc[similar_users.index]\n",
    "    \n",
    "    # Calcular el promedio ponderado de las valoraciones de productos por usuarios similares\n",
    "    mean_ratings = similar_users_ratings.T.dot(similar_users) / similar_users.sum()\n",
    "    \n",
    "    # Filtrar productos que el usuario ya ha calificado\n",
    "    user_rated_products = user_product_matrix.loc[user_id][user_product_matrix.loc[user_id] > 0].index\n",
    "    recommendations = mean_ratings.drop(user_rated_products).sort_values(ascending=False)\n",
    "    \n",
    "    return recommendations.head(num_recommendations)\n",
    "\n",
    "# Ejemplo de uso\n",
    "recommended_products = recommend_products(34682965, 5)\n",
    "recommended_products_array = recommended_products.index.tolist()\n",
    "# Leer el dataset\n",
    "df = pd.read_csv('amazon.tsv', sep='\\t', nrows=50_000)\n",
    "\n",
    "# Filtrar el DataFrame para obtener solo las filas con los product_id recomendados\n",
    "filtered_data = df[df['product_id'].isin(recommended_products_array)]\n",
    "\n",
    "# Eliminar duplicados basados en el product_id\n",
    "unique_recommended_titles = filtered_data.drop_duplicates(subset='product_id')[['product_id', 'product_title']]\n",
    "\n",
    "# Imprimir los títulos de los productos recomendados\n",
    "print(unique_recommended_titles)"
   ]
  },
  {
   "cell_type": "code",
   "execution_count": null,
   "id": "dcbdec4e-9d70-4976-8dd3-80cd89041182",
   "metadata": {},
   "outputs": [],
   "source": []
  }
 ],
 "metadata": {
  "kernelspec": {
   "display_name": "Python 3 (ipykernel)",
   "language": "python",
   "name": "python3"
  },
  "language_info": {
   "codemirror_mode": {
    "name": "ipython",
    "version": 3
   },
   "file_extension": ".py",
   "mimetype": "text/x-python",
   "name": "python",
   "nbconvert_exporter": "python",
   "pygments_lexer": "ipython3",
   "version": "3.12.3"
  }
 },
 "nbformat": 4,
 "nbformat_minor": 5
}

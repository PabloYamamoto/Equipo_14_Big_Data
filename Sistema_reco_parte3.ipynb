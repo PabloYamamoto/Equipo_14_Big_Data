{
 "cells": [
  {
   "cell_type": "code",
   "execution_count": 1,
   "id": "08e917cb-9422-4635-bf4f-409ed1aadc0f",
   "metadata": {},
   "outputs": [],
   "source": [
    "import numpy as np\n",
    "import pandas as pd\n",
    "import sklearn\n",
    "import matplotlib.pyplot as plt\n",
    "import seaborn as sns\n",
    "from sklearn.metrics.pairwise import cosine_similarity\n",
    "from sklearn.decomposition import NMF"
   ]
  },
  {
   "cell_type": "code",
   "execution_count": 2,
   "id": "13fd81c9-7cde-4434-9074-cb2c0a29e73a",
   "metadata": {},
   "outputs": [],
   "source": [
    "# Cargar datos\n",
    "amazon = pd.read_csv('amazon.tsv', sep='\\t')\n",
    "num_rows = len(amazon)\n",
    "midpoint = num_rows // 4\n",
    "amazon = amazon.iloc[:midpoint]\n",
    "\n",
    "# Eliminar duplicados y valores nulos\n",
    "amazon = amazon.drop_duplicates()\n",
    "amazon = amazon.dropna()\n",
    "amazon['review_date'] = pd.to_datetime(amazon['review_date'])\n",
    "amazon = amazon.drop(columns=['marketplace', 'product_category', 'review_id', 'product_parent', 'vine', 'verified_purchase', 'review_headline', 'review_date'])"
   ]
  },
  {
   "cell_type": "code",
   "execution_count": 3,
   "id": "d0738f10-57e3-4410-9674-57b4b8c0b0e6",
   "metadata": {},
   "outputs": [],
   "source": [
    "# Asegurarse de que las columnas estén en el tipo de datos correcto\n",
    "amazon['customer_id'] = amazon['customer_id'].astype(int)\n",
    "amazon['product_id'] = amazon['product_id'].astype(str)\n",
    "amazon['star_rating'] = amazon['star_rating'].astype(float)\n",
    "\n",
    "# Tratamiento de valores atípicos\n",
    "def detectar_y_tratar_valores_atipicos(df, col):\n",
    "    Q1 = df[col].quantile(0.25)\n",
    "    Q3 = df[col].quantile(0.75)\n",
    "    IQR = Q3 - Q1\n",
    "    limite_inferior = Q1 - 1.5 * IQR\n",
    "    limite_superior = Q3 + 1.5 * IQR\n",
    "\n",
    "    df[col] = np.where(df[col] < limite_inferior, limite_inferior, df[col])\n",
    "    df[col] = np.where(df[col] > limite_superior, limite_superior, df[col])\n",
    "\n",
    "    return df\n",
    "\n",
    "amazon = detectar_y_tratar_valores_atipicos(amazon, 'helpful_votes')\n",
    "amazon = detectar_y_tratar_valores_atipicos(amazon, 'total_votes')\n",
    "amazon = detectar_y_tratar_valores_atipicos(amazon, 'star_rating')"
   ]
  },
  {
   "cell_type": "code",
   "execution_count": 4,
   "id": "a126bdaf-c457-4ac1-a425-196fce079787",
   "metadata": {},
   "outputs": [],
   "source": [
    "# Verificar que no haya valores nulos en las columnas necesarias\n",
    "if (amazon['customer_id'].isnull().sum() > 0 or\n",
    "    amazon['product_id'].isnull().sum() > 0 or\n",
    "    amazon['star_rating'].isnull().sum() > 0):\n",
    "    raise ValueError(\"Hay valores nulos en las columnas necesarias para la creación de la matriz de usuario-producto\")\n"
   ]
  },
  {
   "cell_type": "code",
   "execution_count": 5,
   "id": "2587e6dd-50ab-4fb7-8073-898d01af8a50",
   "metadata": {},
   "outputs": [],
   "source": [
    "# Reducir el número de usuarios y productos para manejar mejor la memoria y evitar dimensiones negativas\n",
    "# Seleccionar los 1000 usuarios y productos más activos\n",
    "top_users = amazon['customer_id'].value_counts().nlargest(1000).index\n",
    "top_products = amazon['product_id'].value_counts().nlargest(1000).index\n",
    "amazon_reduced = amazon[amazon['customer_id'].isin(top_users) & amazon['product_id'].isin(top_products)]\n"
   ]
  },
  {
   "cell_type": "code",
   "execution_count": 6,
   "id": "1aab850d-ec0f-4eba-8f21-62afc4241c5a",
   "metadata": {},
   "outputs": [],
   "source": [
    "# Crear la matriz de usuario-producto\n",
    "user_product_matrix = amazon_reduced.pivot_table(index='customer_id', columns='product_id', values='star_rating').fillna(0)\n"
   ]
  },
  {
   "cell_type": "code",
   "execution_count": 7,
   "id": "fe1d97af-7126-477d-b4ed-8127efe160f4",
   "metadata": {},
   "outputs": [
    {
     "name": "stdout",
     "output_type": "stream",
     "text": [
      "Algunos customer_id disponibles: Index([12081595, 12083294, 12128218, 12134476, 12173619, 12185304, 12202815,\n",
      "       12221367, 12227112, 12230154],\n",
      "      dtype='int64', name='customer_id')\n",
      "       product_id                                product_title\n",
      "295    0451526341                   Animal farm: A Fairy Story\n",
      "575    0316011770                                The Historian\n",
      "645    0743226712                                         1776\n",
      "6243   0553212583          Wuthering Heights (Bantam Classics)\n",
      "21283  055327449X  The Illustrated Man (Grand Master Editions)\n",
      "Hit Rate@5: 0\n",
      "Coverage@5: 0.008710801393728223\n",
      "MRR@5: 0.0\n",
      "Hit Rate@10: 0\n",
      "Coverage@10: 0.017421602787456445\n",
      "MRR@10: 0.0\n",
      "Hit Rate@20: 0\n",
      "Coverage@20: 0.03484320557491289\n",
      "MRR@20: 0.0\n"
     ]
    }
   ],
   "source": [
    "# Verificar dimensiones de la matriz antes de la factorización\n",
    "if user_product_matrix.shape[0] > 0 and user_product_matrix.shape[1] > 0:\n",
    "    # Algoritmo de Matrix Factorization de Parte 3\n",
    "    def matrix_factorization(user_product_matrix):\n",
    "        nmf = NMF(n_components=10, init='random', random_state=0)\n",
    "        W = nmf.fit_transform(user_product_matrix)\n",
    "        H = nmf.components_\n",
    "        return W, H\n",
    "\n",
    "    # Integración del algoritmo\n",
    "    W, H = matrix_factorization(user_product_matrix)\n",
    "    reconstructed_matrix = np.dot(W, H)\n",
    "\n",
    "    # Función para recomendar productos usando Matrix Factorization\n",
    "    def recommend_products(user_id, num_recommendations=5):\n",
    "        user_index = user_product_matrix.index.get_loc(user_id)\n",
    "        user_ratings = reconstructed_matrix[user_index]\n",
    "        user_rated_products = user_product_matrix.loc[user_id][user_product_matrix.loc[user_id] > 0].index\n",
    "        recommendations = pd.Series(user_ratings, index=user_product_matrix.columns).drop(user_rated_products).sort_values(ascending=False)\n",
    "        \n",
    "        return recommendations.head(num_recommendations)\n",
    "\n",
    "    # Calcular métricas de evaluación\n",
    "    def hit_rate(recommended_items, relevant_items):\n",
    "        return int(len(set(recommended_items) & set(relevant_items)) > 0)\n",
    "\n",
    "    def coverage(recommended_items, all_items):\n",
    "        return len(set(recommended_items)) / float(len(all_items))\n",
    "\n",
    "    def mean_reciprocal_rank(recommended_items, relevant_items):\n",
    "        for i, item in enumerate(recommended_items):\n",
    "            if item in relevant_items:\n",
    "                return 1.0 / (i + 1)\n",
    "        return 0.0\n",
    "\n",
    "    # Mostrar algunos customer_id disponibles\n",
    "    print(\"Algunos customer_id disponibles:\", user_product_matrix.index[:10])\n",
    "\n",
    "    # Seleccionar un customer_id válido de los disponibles\n",
    "    valid_customer_id = user_product_matrix.index[0]\n",
    "\n",
    "    # Ejemplo de uso con un customer_id válido\n",
    "    recommended_products = recommend_products(valid_customer_id, 5)\n",
    "    recommended_products_array = recommended_products.index.tolist()\n",
    "    df = pd.read_csv('amazon.tsv', sep='\\t', nrows=50_000)\n",
    "    filtered_data = df[df['product_id'].isin(recommended_products_array)]\n",
    "    unique_recommended_titles = filtered_data.drop_duplicates(subset='product_id')[['product_id', 'product_title']]\n",
    "    print(unique_recommended_titles)\n",
    "\n",
    "    # Calcular métricas de ejemplo con diferentes valores de k\n",
    "    relevant_items = amazon_reduced[amazon_reduced['customer_id'] == valid_customer_id]['product_id'].tolist()\n",
    "    all_items = user_product_matrix.columns.tolist()\n",
    "    for k in [5, 10, 20]:\n",
    "        recommended_products = recommend_products(valid_customer_id, k)\n",
    "        recommended_products_array = recommended_products.index.tolist()\n",
    "\n",
    "        hr = hit_rate(recommended_products_array, relevant_items)\n",
    "        cov = coverage(recommended_products_array, all_items)\n",
    "        mrr = mean_reciprocal_rank(recommended_products_array, relevant_items)\n",
    "\n",
    "        print(f'Hit Rate@{k}: {hr}')\n",
    "        print(f'Coverage@{k}: {cov}')\n",
    "        print(f'MRR@{k}: {mrr}')\n",
    "else:\n",
    "    print(\"Error: La matriz de usuario-producto tiene dimensiones no válidas.\")"
   ]
  },
  {
   "cell_type": "code",
   "execution_count": null,
   "id": "45a3a869-6240-4872-a786-5f61c74184db",
   "metadata": {},
   "outputs": [],
   "source": []
  }
 ],
 "metadata": {
  "kernelspec": {
   "display_name": "Python 3 (ipykernel)",
   "language": "python",
   "name": "python3"
  },
  "language_info": {
   "codemirror_mode": {
    "name": "ipython",
    "version": 3
   },
   "file_extension": ".py",
   "mimetype": "text/x-python",
   "name": "python",
   "nbconvert_exporter": "python",
   "pygments_lexer": "ipython3",
   "version": "3.12.3"
  }
 },
 "nbformat": 4,
 "nbformat_minor": 5
}
